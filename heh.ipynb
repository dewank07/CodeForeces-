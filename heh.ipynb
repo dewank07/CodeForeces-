{
 "cells": [
  {
   "cell_type": "code",
   "execution_count": 2,
   "metadata": {},
   "outputs": [
    {
     "ename": "FileNotFoundError",
     "evalue": "[Errno 2] No such file or directory: 'heh..txt.txt'",
     "output_type": "error",
     "traceback": [
      "\u001b[1;31m---------------------------------------------------------------------------\u001b[0m",
      "\u001b[1;31mFileNotFoundError\u001b[0m                         Traceback (most recent call last)",
      "\u001b[1;32mc:\\Dewank-work\\CP\\heh.ipynb Cell 1'\u001b[0m in \u001b[0;36m<cell line: 1>\u001b[1;34m()\u001b[0m\n\u001b[1;32m----> <a href='vscode-notebook-cell:/c%3A/Dewank-work/CP/heh.ipynb#ch0000000?line=0'>1</a>\u001b[0m file \u001b[39m=\u001b[39m \u001b[39mopen\u001b[39;49m(\u001b[39m\"\u001b[39;49m\u001b[39mheh..txt.txt\u001b[39;49m\u001b[39m\"\u001b[39;49m,\u001b[39m\"\u001b[39;49m\u001b[39mr\u001b[39;49m\u001b[39m\"\u001b[39;49m)\n\u001b[0;32m      <a href='vscode-notebook-cell:/c%3A/Dewank-work/CP/heh.ipynb#ch0000000?line=1'>2</a>\u001b[0m frequent_word \u001b[39m=\u001b[39m \u001b[39m\"\u001b[39m\u001b[39m\"\u001b[39m\n\u001b[0;32m      <a href='vscode-notebook-cell:/c%3A/Dewank-work/CP/heh.ipynb#ch0000000?line=2'>3</a>\u001b[0m frequency \u001b[39m=\u001b[39m \u001b[39m0\u001b[39m\n",
      "\u001b[1;31mFileNotFoundError\u001b[0m: [Errno 2] No such file or directory: 'heh..txt.txt'"
     ]
    }
   ],
   "source": [
    "\n",
    "file = open(\"heh.txt.txt\",\"r\")\n",
    "frequent_word = \"\"\n",
    "frequency = 0\n",
    "words = []\n",
    "for line in file:\n",
    "\tline_word = line.lower().replace(',','').replace('.','').split(\" \");\n",
    "\tfor w in line_word:\n",
    "\t\twords.append(w);\t\t\n",
    "for i in range(0, len(words)):\t\n",
    "\tcount = 1;\t\n",
    "\tfor j in range(i+1, len(words)):\n",
    "\t\tif(words[i] == words[j]):\n",
    "\t\t\tcount = count + 1;\n",
    "\tif(count > frequency):\n",
    "\t\tfrequency = count;\n",
    "\t\tfrequent_word = words[i];\n",
    "print(\"Most repeated word: \" + frequent_word)\n",
    "print(\"Frequency: \" + str(frequency))\n",
    "file.close();\n"
   ]
  },
  {
   "cell_type": "code",
   "execution_count": null,
   "metadata": {},
   "outputs": [],
   "source": []
  }
 ],
 "metadata": {
  "interpreter": {
   "hash": "388972c930de013aa23783150f5b2b715341a5d90552c002d052790a386e1d6d"
  },
  "kernelspec": {
   "display_name": "Python 3.10.4 64-bit",
   "language": "python",
   "name": "python3"
  },
  "language_info": {
   "codemirror_mode": {
    "name": "ipython",
    "version": 3
   },
   "file_extension": ".py",
   "mimetype": "text/x-python",
   "name": "python",
   "nbconvert_exporter": "python",
   "pygments_lexer": "ipython3",
   "version": "3.10.4"
  },
  "orig_nbformat": 4
 },
 "nbformat": 4,
 "nbformat_minor": 2
}
